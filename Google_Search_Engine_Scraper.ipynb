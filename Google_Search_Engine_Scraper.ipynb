{
 "cells": [
  {
   "cell_type": "code",
   "execution_count": 18,
   "id": "785d79a5",
   "metadata": {},
   "outputs": [],
   "source": [
    "import requests as rq\n",
    "import pandas as pd\n",
    "\n",
    "# import excel file containing links\n",
    "#ink_list = pd.read_excel('CSE_Links.xlsx')\n",
    "\n",
    "link_list = pd.read_excel('link_6.xlsx')\n",
    "\n",
    "# Create in google developer API\n",
    "API_KEY = '*******************************'\n",
    "\n",
    "# Search Engine ID: already in the links\n",
    "SEARCH_ENGINE_ID = '*************************'\n",
    "\n",
    "# List to hold extracted data\n",
    "df_list = []\n",
    "\n",
    "#iterate through links in the list:\n",
    "for row in link_list['url']:\n",
    "    query = row.split('=')[3]\n",
    "    \n",
    "    # iterate through the 10 pages in each link\n",
    "    for page in range(1, 11):\n",
    "        url = f\"https://www.googleapis.com/customsearch/v1?key={API_KEY}&cx={SEARCH_ENGINE_ID}&q={query}&start={page}\"\n",
    "        data = rq.get(url).json()\n",
    "        search_items = data.get('items')\n",
    "        #print(data)\n",
    "\n",
    "        # iterate through each page to get required data\n",
    "        for i, search_item in enumerate(search_items):\n",
    "            title = search_item.get(\"title\")\n",
    "            description = search_item.get(\"snippet\")\n",
    "            link = search_item.get(\"link\")\n",
    "\n",
    "            # append extracted data to list\n",
    "            df_list.append({'company_name': title,\n",
    "                            'url': link,\n",
    "                            'description': description})\n",
    "\n",
    "# convert results to a dataframe\n",
    "df = pd.DataFrame(df_list, columns = ['company_name', 'url', 'description'])\n",
    "    \n",
    "# save file as CSV\n",
    "df.to_csv('search_results_6.csv', index = False)"
   ]
  },
  {
   "cell_type": "code",
   "execution_count": 25,
   "id": "5da09b81",
   "metadata": {},
   "outputs": [],
   "source": [
    "import glob\n",
    "\n",
    "results = glob.glob('search_results_*')\n",
    "\n",
    "frame = []\n",
    "for file in results:\n",
    "    frame.append(pd.read_csv(file))\n",
    "df = pd.concat(frame)\n",
    "df.to_csv('search_results.csv', index = False)"
   ]
  },
  {
   "cell_type": "code",
   "execution_count": null,
   "id": "4fd590a9",
   "metadata": {},
   "outputs": [],
   "source": []
  }
 ],
 "metadata": {
  "kernelspec": {
   "display_name": "Python 3 (ipykernel)",
   "language": "python",
   "name": "python3"
  },
  "language_info": {
   "codemirror_mode": {
    "name": "ipython",
    "version": 3
   },
   "file_extension": ".py",
   "mimetype": "text/x-python",
   "name": "python",
   "nbconvert_exporter": "python",
   "pygments_lexer": "ipython3",
   "version": "3.9.13"
  }
 },
 "nbformat": 4,
 "nbformat_minor": 5
}
